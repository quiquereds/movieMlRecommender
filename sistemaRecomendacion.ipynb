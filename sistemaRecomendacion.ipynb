{
 "cells": [
  {
   "cell_type": "markdown",
   "metadata": {},
   "source": [
    "# Sistema simple de recomendación de películas con Python\n",
    "\n",
    "¿Alguna vez te has preguntado cómo Netflix es capaz de adivinar casi a la perfección la serie o película que vas a ver? Te prometo que no es brujería, es tecnología. Lo que sucede detrás de las recomendaciones que ves cada día en diversas plataformas de streaming como Disney+, Max e inclusive Spotify, hay algoritmos que trabajan con millones de datos para ofrecerte contenido que podría gustarte. \n",
    "\n",
    "Uno de los algoritmos empleados en los sistemas de recomendación, se llama Filtrado Colaborativo (FC). ¿Te dejé igual? No te preocupes, vamos a desarrollar esta maraña para que veas cómo funciona esta tecnología, y lo mejor de todo, podrás desarrollar un sistema de recomendaciones simple con Python para que lo presumas con tus amigos."
   ]
  },
  {
   "cell_type": "markdown",
   "metadata": {},
   "source": [
    "## **Paso 1: Importar dependencias**\n",
    "\n",
    "En este algoritmo se utilizarán los dataframes de Pandas que representaran nuestros datos, un dataframe no es nada mas que una estructura bidimensional de datos, similar a la que se observa en programas como Excel, donde se tienen columnas que representan características y filas que representan ítems."
   ]
  },
  {
   "cell_type": "code",
   "execution_count": 72,
   "metadata": {},
   "outputs": [],
   "source": [
    "import numpy as np\n",
    "import pandas as pd\n",
    "import matplotlib.pyplot as plt\n",
    "import seaborn as sns"
   ]
  },
  {
   "cell_type": "markdown",
   "metadata": {},
   "source": [
    "## **Paso 2: Cargar los datos**\n",
    "\n",
    "Se trabajará con el conjunto de datos `ml-latest-small.zip` extraído de la plataforma de MovieLens, de todos estos datos, la información más relevante para este ejemplo está ubicada en los ficheros:\n",
    "\n",
    "- ratings.csv (incluye las reseñas de cada usuario a una película en específico con su marca de tiempo)\n",
    "- movies.csv (incluye información sobre cada película)\n",
    "\n",
    "Los datos se cargaron a un DataFrame de Pandas"
   ]
  },
  {
   "cell_type": "code",
   "execution_count": 73,
   "metadata": {},
   "outputs": [],
   "source": [
    "ratings_df = pd.read_csv('data/ratings.csv')"
   ]
  },
  {
   "cell_type": "code",
   "execution_count": 74,
   "metadata": {},
   "outputs": [],
   "source": [
    "movies_df = pd.read_csv('data/movies.csv')"
   ]
  },
  {
   "cell_type": "markdown",
   "metadata": {},
   "source": [
    "## **Paso 3: Análisis exploratorio de datos**\n",
    "\n",
    "Se aplicó un análisis de estadística descriptiva para comprender la información que existe en el dataset y así poder encontrar información relevante que sirva en la construcción del modelo\n",
    "\n",
    "### **Análisis de valoraciones**\n",
    "\n",
    "Como primer paso se realizó un análisis de las valoraciones que cada usuario ha hecho sobre una película, para determinar si se cuenta con amplitud en las valoraciones, es decir, que el conjunto de datos muestre una distribución normal y no una con tendencia al lado positivo o negativo, ya que eso puede impactar en los resultados del modelo."
   ]
  },
  {
   "cell_type": "code",
   "execution_count": 75,
   "metadata": {},
   "outputs": [
    {
     "name": "stdout",
     "output_type": "stream",
     "text": [
      "Número de valoraciones en el dataset: 100836\n",
      "Número de películas únicas en el dataset: 9724\n",
      "Número de usuarios únicos en el dataset: 610\n",
      "Promedio de valoraciones por usuario: 165.3\n",
      "Promedio de valoraciones por película: 10.37\n"
     ]
    }
   ],
   "source": [
    "#  Número de valoraciones en el dataset\n",
    "ratingsLength = len(ratings_df)\n",
    "# Número de películas únicas en el dataset \n",
    "moviesLength = ratings_df['movieId'].nunique()\n",
    "# Número de usuarios únicos en el dataset\n",
    "usersLength = ratings_df['userId'].nunique()\n",
    "\n",
    "print(f'Número de valoraciones en el dataset: {ratingsLength}')\n",
    "print(f'Número de películas únicas en el dataset: {moviesLength}')\n",
    "print(f'Número de usuarios únicos en el dataset: {usersLength}')\n",
    "\n",
    "# Promedio de valoraciones por usuario y por película (redondeado a 2 decimales)\n",
    "print(f'Promedio de valoraciones por usuario: {round(ratingsLength/usersLength, 2)}')\n",
    "print(f'Promedio de valoraciones por película: {round(ratingsLength/moviesLength, 2)}')"
   ]
  },
  {
   "cell_type": "markdown",
   "metadata": {},
   "source": [
    "#### **¿Cómo está la distribución de las valoraciones?**\n",
    "\n",
    "Se generó una gráfica de barras para conocer la distribución de valoraciones de las películas"
   ]
  },
  {
   "cell_type": "code",
   "execution_count": 76,
   "metadata": {},
   "outputs": [
    {
     "name": "stderr",
     "output_type": "stream",
     "text": [
      "C:\\Users\\quiqu\\AppData\\Local\\Temp\\ipykernel_21432\\508794909.py:1: FutureWarning: \n",
      "\n",
      "Passing `palette` without assigning `hue` is deprecated and will be removed in v0.14.0. Assign the `x` variable to `hue` and set `legend=False` for the same effect.\n",
      "\n",
      "  sns.countplot(x= 'rating', data=ratings_df, palette='RdYlGn')\n"
     ]
    },
    {
     "data": {
      "image/png": "[encoded data removed]",
      "text/plain": [
       "<Figure size 640x480 with 1 Axes>"
      ]
     },
     "metadata": {},
     "output_type": "display_data"
    }
   ],
   "source": [
    "sns.countplot(x= 'rating', data=ratings_df, palette='RdYlGn')\n",
    "plt.title('Distribución de valoraciones')\n",
    "plt.xlabel('Valoración')\n",
    "plt.ylabel('Cantidad de valoraciones')\n",
    "plt.show()"
   ]
  },
  {
   "cell_type": "markdown",
   "metadata": {},
   "source": [
    "#### **¿Cuál es el promedio de las valoraciones de forma global y por usuario?**"
   ]
  },
  {
   "cell_type": "code",
   "execution_count": 77,
   "metadata": {},
   "outputs": [
    {
     "name": "stdout",
     "output_type": "stream",
     "text": [
      "Promedio de valoración de forma global: 3.5 estrellas\n",
      "Promedio de valoración por usuario: 3.7 estrellas\n"
     ]
    }
   ],
   "source": [
    "# Promedio de valoración de forma global (redondeado a 1 decimal)\n",
    "print(f'Promedio de valoración de forma global: {round(ratings_df[\"rating\"].mean(), 1)} estrellas')\n",
    "\n",
    "# Promedio de valoración por usuario (redondeado a 1 decimal)\n",
    "userRatings = ratings_df.groupby('userId')['rating'].mean()\n",
    "print(f'Promedio de valoración por usuario: {round(userRatings.mean(), 1)} estrellas')"
   ]
  },
  {
   "cell_type": "markdown",
   "metadata": {},
   "source": [
    "#### **¿Qué películas tienen más reseñas?**"
   ]
  },
  {
   "cell_type": "code",
   "execution_count": 78,
   "metadata": {},
   "outputs": [
    {
     "data": {
      "text/plain": [
       "title\n",
       "Forrest Gump (1994)                          329\n",
       "Shawshank Redemption, The (1994)             317\n",
       "Pulp Fiction (1994)                          307\n",
       "Silence of the Lambs, The (1991)             279\n",
       "Matrix, The (1999)                           278\n",
       "Star Wars: Episode IV - A New Hope (1977)    251\n",
       "Jurassic Park (1993)                         238\n",
       "Braveheart (1995)                            237\n",
       "Terminator 2: Judgment Day (1991)            224\n",
       "Schindler's List (1993)                      220\n",
       "Name: count, dtype: int64"
      ]
     },
     "execution_count": 78,
     "metadata": {},
     "output_type": "execute_result"
    }
   ],
   "source": [
    "# Películas con más reseñas\n",
    "moviesRatings = ratings_df.merge(movies_df, on='movieId')\n",
    "moviesRatings['title'].value_counts()[0:10]"
   ]
  },
  {
   "cell_type": "markdown",
   "metadata": {},
   "source": [
    "Las películas con más reseñas son:\n",
    "- Forest Gump (1994)\n",
    "- Shawshank Redemption (1994)\n",
    "- Pulp Fiction (1994)\n",
    "- Silence of the Lambs, The (1991) "
   ]
  },
  {
   "cell_type": "markdown",
   "metadata": {},
   "source": [
    "#### **¿Qué película tiene la mejor y la peor calificación promedio?**"
   ]
  },
  {
   "cell_type": "code",
   "execution_count": 79,
   "metadata": {},
   "outputs": [],
   "source": [
    "# Promedio de valoración de todas las películas\n",
    "meanRatings = ratings_df.groupby('movieId')[['rating']].mean()\n"
   ]
  },
  {
   "cell_type": "code",
   "execution_count": 80,
   "metadata": {},
   "outputs": [
    {
     "data": {
      "text/html": [
       "<div>\n",
       "<style scoped>\n",
       "    .dataframe tbody tr th:only-of-type {\n",
       "        vertical-align: middle;\n",
       "    }\n",
       "\n",
       "    .dataframe tbody tr th {\n",
       "        vertical-align: top;\n",
       "    }\n",
       "\n",
       "    .dataframe thead th {\n",
       "        text-align: right;\n",
       "    }\n",
       "</style>\n",
       "<table border=\"1\" class=\"dataframe\">\n",
       "  <thead>\n",
       "    <tr style=\"text-align: right;\">\n",
       "      <th></th>\n",
       "      <th>movieId</th>\n",
       "      <th>title</th>\n",
       "      <th>genres</th>\n",
       "    </tr>\n",
       "  </thead>\n",
       "  <tbody>\n",
       "    <tr>\n",
       "      <th>2689</th>\n",
       "      <td>3604</td>\n",
       "      <td>Gypsy (1962)</td>\n",
       "      <td>Musical</td>\n",
       "    </tr>\n",
       "  </tbody>\n",
       "</table>\n",
       "</div>"
      ],
      "text/plain": [
       "      movieId         title   genres\n",
       "2689     3604  Gypsy (1962)  Musical"
      ]
     },
     "execution_count": 80,
     "metadata": {},
     "output_type": "execute_result"
    }
   ],
   "source": [
    "# Película con menor valoración promedio\n",
    "worstMovie = meanRatings['rating'].idxmin()\n",
    "movies_df[movies_df['movieId'] == worstMovie]"
   ]
  },
  {
   "cell_type": "markdown",
   "metadata": {},
   "source": [
    "`Gypsy (1962)` es la película con peor calificación"
   ]
  },
  {
   "cell_type": "code",
   "execution_count": 81,
   "metadata": {},
   "outputs": [
    {
     "data": {
      "text/html": [
       "<div>\n",
       "<style scoped>\n",
       "    .dataframe tbody tr th:only-of-type {\n",
       "        vertical-align: middle;\n",
       "    }\n",
       "\n",
       "    .dataframe tbody tr th {\n",
       "        vertical-align: top;\n",
       "    }\n",
       "\n",
       "    .dataframe thead th {\n",
       "        text-align: right;\n",
       "    }\n",
       "</style>\n",
       "<table border=\"1\" class=\"dataframe\">\n",
       "  <thead>\n",
       "    <tr style=\"text-align: right;\">\n",
       "      <th></th>\n",
       "      <th>movieId</th>\n",
       "      <th>title</th>\n",
       "      <th>genres</th>\n",
       "    </tr>\n",
       "  </thead>\n",
       "  <tbody>\n",
       "    <tr>\n",
       "      <th>48</th>\n",
       "      <td>53</td>\n",
       "      <td>Lamerica (1994)</td>\n",
       "      <td>Adventure|Drama</td>\n",
       "    </tr>\n",
       "  </tbody>\n",
       "</table>\n",
       "</div>"
      ],
      "text/plain": [
       "    movieId            title           genres\n",
       "48       53  Lamerica (1994)  Adventure|Drama"
      ]
     },
     "execution_count": 81,
     "metadata": {},
     "output_type": "execute_result"
    }
   ],
   "source": [
    "# Película con mayor valoración promedio\n",
    "bestMovie = meanRatings['rating'].idxmax()\n",
    "movies_df[movies_df['movieId'] == bestMovie]"
   ]
  },
  {
   "cell_type": "markdown",
   "metadata": {},
   "source": [
    "`Lamerica (1994)` es la película con mayor calificación"
   ]
  },
  {
   "cell_type": "markdown",
   "metadata": {},
   "source": [
    "#### **¿Cuántas valoraciones tiene Lamerica?**"
   ]
  },
  {
   "cell_type": "code",
   "execution_count": 82,
   "metadata": {},
   "outputs": [
    {
     "data": {
      "text/html": [
       "<div>\n",
       "<style scoped>\n",
       "    .dataframe tbody tr th:only-of-type {\n",
       "        vertical-align: middle;\n",
       "    }\n",
       "\n",
       "    .dataframe tbody tr th {\n",
       "        vertical-align: top;\n",
       "    }\n",
       "\n",
       "    .dataframe thead th {\n",
       "        text-align: right;\n",
       "    }\n",
       "</style>\n",
       "<table border=\"1\" class=\"dataframe\">\n",
       "  <thead>\n",
       "    <tr style=\"text-align: right;\">\n",
       "      <th></th>\n",
       "      <th>userId</th>\n",
       "      <th>movieId</th>\n",
       "      <th>rating</th>\n",
       "      <th>timestamp</th>\n",
       "    </tr>\n",
       "  </thead>\n",
       "  <tbody>\n",
       "    <tr>\n",
       "      <th>13368</th>\n",
       "      <td>85</td>\n",
       "      <td>53</td>\n",
       "      <td>5.0</td>\n",
       "      <td>889468268</td>\n",
       "    </tr>\n",
       "    <tr>\n",
       "      <th>96115</th>\n",
       "      <td>603</td>\n",
       "      <td>53</td>\n",
       "      <td>5.0</td>\n",
       "      <td>963180003</td>\n",
       "    </tr>\n",
       "  </tbody>\n",
       "</table>\n",
       "</div>"
      ],
      "text/plain": [
       "       userId  movieId  rating  timestamp\n",
       "13368      85       53     5.0  889468268\n",
       "96115     603       53     5.0  963180003"
      ]
     },
     "execution_count": 82,
     "metadata": {},
     "output_type": "execute_result"
    }
   ],
   "source": [
    "# Valoraciones de Lamerica\n",
    "ratings_df[ratings_df['movieId'] == bestMovie]"
   ]
  },
  {
   "cell_type": "markdown",
   "metadata": {},
   "source": [
    "En el resultado anterior, existe un problema, ya que aparentemente Lamerica es la película mejor calificada, pero solo cuenta con dos valoraciones. Si una película tiene una calificación muy alta pero solo ha sido evaluada por dos personas, no podemos estar seguros de que esa calificación sea representativa. Es posible que esas dos personas tengan gustos muy específicos que no reflejan la opinión general.\n",
    "\n",
    "En un algoritmo de filtrado colaborativo, que se basa en las calificaciones de los usuarios para recomendar películas, esto puede ser un problema. Si el algoritmo ve que \"Lamerica\" tiene una calificación alta, podría recomendarla a muchas personas, pero si esas dos calificaciones no son representativas, la recomendación podría no ser buena.\n",
    "\n",
    "El promedio bayesiano es una técnica que ayuda a mitigar este problema. En lugar de confiar únicamente en las calificaciones dadas, el promedio bayesiano combina estas calificaciones con una calificación promedio general de todas las películas. Esto se hace para evitar que películas con muy pocas calificaciones tengan un impacto desproporcionado."
   ]
  },
  {
   "cell_type": "code",
   "execution_count": 83,
   "metadata": {},
   "outputs": [
    {
     "data": {
      "text/html": [
       "<div>\n",
       "<style scoped>\n",
       "    .dataframe tbody tr th:only-of-type {\n",
       "        vertical-align: middle;\n",
       "    }\n",
       "\n",
       "    .dataframe tbody tr th {\n",
       "        vertical-align: top;\n",
       "    }\n",
       "\n",
       "    .dataframe thead th {\n",
       "        text-align: right;\n",
       "    }\n",
       "</style>\n",
       "<table border=\"1\" class=\"dataframe\">\n",
       "  <thead>\n",
       "    <tr style=\"text-align: right;\">\n",
       "      <th></th>\n",
       "      <th>count</th>\n",
       "      <th>mean</th>\n",
       "    </tr>\n",
       "    <tr>\n",
       "      <th>movieId</th>\n",
       "      <th></th>\n",
       "      <th></th>\n",
       "    </tr>\n",
       "  </thead>\n",
       "  <tbody>\n",
       "    <tr>\n",
       "      <th>1</th>\n",
       "      <td>215</td>\n",
       "      <td>3.920930</td>\n",
       "    </tr>\n",
       "    <tr>\n",
       "      <th>2</th>\n",
       "      <td>110</td>\n",
       "      <td>3.431818</td>\n",
       "    </tr>\n",
       "    <tr>\n",
       "      <th>3</th>\n",
       "      <td>52</td>\n",
       "      <td>3.259615</td>\n",
       "    </tr>\n",
       "    <tr>\n",
       "      <th>4</th>\n",
       "      <td>7</td>\n",
       "      <td>2.357143</td>\n",
       "    </tr>\n",
       "    <tr>\n",
       "      <th>5</th>\n",
       "      <td>49</td>\n",
       "      <td>3.071429</td>\n",
       "    </tr>\n",
       "  </tbody>\n",
       "</table>\n",
       "</div>"
      ],
      "text/plain": [
       "         count      mean\n",
       "movieId                 \n",
       "1          215  3.920930\n",
       "2          110  3.431818\n",
       "3           52  3.259615\n",
       "4            7  2.357143\n",
       "5           49  3.071429"
      ]
     },
     "execution_count": 83,
     "metadata": {},
     "output_type": "execute_result"
    }
   ],
   "source": [
    "# Películas con más reseñas y mejor valoración promedio\n",
    "movieStats = ratings_df.groupby('movieId')['rating'].agg(['count', 'mean'])\n",
    "movieStats.head()"
   ]
  },
  {
   "cell_type": "code",
   "execution_count": 84,
   "metadata": {},
   "outputs": [
    {
     "name": "stdout",
     "output_type": "stream",
     "text": [
      "Número promedio de valoraciones por película: 10.37\n",
      "Promedio de valoración por película: 3.26\n"
     ]
    }
   ],
   "source": [
    "C = movieStats['count'].mean()\n",
    "m = movieStats['mean'].mean()\n",
    "\n",
    "print(f\"Número promedio de valoraciones por película: {C:.2f}\")\n",
    "print(f\"Promedio de valoración por película: {m:.2f}\")\n",
    "\n",
    "def bayesianAverage(ratings):\n",
    "    bayesianAvg = (C * m + ratings.sum()) / (C + ratings.count())\n",
    "    return round(bayesianAvg, 3)"
   ]
  },
  {
   "cell_type": "code",
   "execution_count": 85,
   "metadata": {},
   "outputs": [
    {
     "name": "stdout",
     "output_type": "stream",
     "text": [
      "Valoración bayesiana de Lamerica: 3.543\n"
     ]
    }
   ],
   "source": [
    "# Valoración bayesiana de Lamerica\n",
    "lamerica = pd.Series([5,5])\n",
    "print(f\"Valoración bayesiana de Lamerica: {bayesianAverage(lamerica)}\")"
   ]
  },
  {
   "cell_type": "markdown",
   "metadata": {},
   "source": [
    "Procedemos a aplicar el promedio bayesiano a todas las películas del conjunto de datos"
   ]
  },
  {
   "cell_type": "code",
   "execution_count": 86,
   "metadata": {},
   "outputs": [
    {
     "data": {
      "text/html": [
       "<div>\n",
       "<style scoped>\n",
       "    .dataframe tbody tr th:only-of-type {\n",
       "        vertical-align: middle;\n",
       "    }\n",
       "\n",
       "    .dataframe tbody tr th {\n",
       "        vertical-align: top;\n",
       "    }\n",
       "\n",
       "    .dataframe thead th {\n",
       "        text-align: right;\n",
       "    }\n",
       "</style>\n",
       "<table border=\"1\" class=\"dataframe\">\n",
       "  <thead>\n",
       "    <tr style=\"text-align: right;\">\n",
       "      <th></th>\n",
       "      <th>movieId</th>\n",
       "      <th>count</th>\n",
       "      <th>mean</th>\n",
       "      <th>bayesian_avg</th>\n",
       "      <th>title</th>\n",
       "    </tr>\n",
       "  </thead>\n",
       "  <tbody>\n",
       "    <tr>\n",
       "      <th>277</th>\n",
       "      <td>318</td>\n",
       "      <td>317</td>\n",
       "      <td>4.429022</td>\n",
       "      <td>4.392</td>\n",
       "      <td>Shawshank Redemption, The (1994)</td>\n",
       "    </tr>\n",
       "    <tr>\n",
       "      <th>659</th>\n",
       "      <td>858</td>\n",
       "      <td>192</td>\n",
       "      <td>4.289062</td>\n",
       "      <td>4.236</td>\n",
       "      <td>Godfather, The (1972)</td>\n",
       "    </tr>\n",
       "    <tr>\n",
       "      <th>2224</th>\n",
       "      <td>2959</td>\n",
       "      <td>218</td>\n",
       "      <td>4.272936</td>\n",
       "      <td>4.227</td>\n",
       "      <td>Fight Club (1999)</td>\n",
       "    </tr>\n",
       "    <tr>\n",
       "      <th>224</th>\n",
       "      <td>260</td>\n",
       "      <td>251</td>\n",
       "      <td>4.231076</td>\n",
       "      <td>4.193</td>\n",
       "      <td>Star Wars: Episode IV - A New Hope (1977)</td>\n",
       "    </tr>\n",
       "    <tr>\n",
       "      <th>46</th>\n",
       "      <td>50</td>\n",
       "      <td>204</td>\n",
       "      <td>4.237745</td>\n",
       "      <td>4.191</td>\n",
       "      <td>Usual Suspects, The (1995)</td>\n",
       "    </tr>\n",
       "  </tbody>\n",
       "</table>\n",
       "</div>"
      ],
      "text/plain": [
       "      movieId  count      mean  bayesian_avg  \\\n",
       "277       318    317  4.429022         4.392   \n",
       "659       858    192  4.289062         4.236   \n",
       "2224     2959    218  4.272936         4.227   \n",
       "224       260    251  4.231076         4.193   \n",
       "46         50    204  4.237745         4.191   \n",
       "\n",
       "                                          title  \n",
       "277            Shawshank Redemption, The (1994)  \n",
       "659                       Godfather, The (1972)  \n",
       "2224                          Fight Club (1999)  \n",
       "224   Star Wars: Episode IV - A New Hope (1977)  \n",
       "46                   Usual Suspects, The (1995)  "
      ]
     },
     "execution_count": 86,
     "metadata": {},
     "output_type": "execute_result"
    }
   ],
   "source": [
    "bayesianAverageRatings = ratings_df.groupby('movieId')['rating'].agg(bayesianAverage).reset_index()\n",
    "bayesianAverageRatings.columns = ['movieId', 'bayesian_avg']\n",
    "movieStats = movieStats.merge(bayesianAverageRatings, on='movieId')\n",
    "movieStats = movieStats.merge(movies_df[['movieId', 'title']])\n",
    "movieStats.sort_values('bayesian_avg', ascending=False).head()"
   ]
  },
  {
   "cell_type": "markdown",
   "metadata": {},
   "source": [
    "Usando el promedio bayesiano, se observa que ahora la película más calificada es `Shawshank Redemption`."
   ]
  },
  {
   "cell_type": "code",
   "execution_count": 87,
   "metadata": {},
   "outputs": [
    {
     "data": {
      "text/html": [
       "<div>\n",
       "<style scoped>\n",
       "    .dataframe tbody tr th:only-of-type {\n",
       "        vertical-align: middle;\n",
       "    }\n",
       "\n",
       "    .dataframe tbody tr th {\n",
       "        vertical-align: top;\n",
       "    }\n",
       "\n",
       "    .dataframe thead th {\n",
       "        text-align: right;\n",
       "    }\n",
       "</style>\n",
       "<table border=\"1\" class=\"dataframe\">\n",
       "  <thead>\n",
       "    <tr style=\"text-align: right;\">\n",
       "      <th></th>\n",
       "      <th>movieId</th>\n",
       "      <th>count</th>\n",
       "      <th>mean</th>\n",
       "      <th>bayesian_avg</th>\n",
       "      <th>title</th>\n",
       "    </tr>\n",
       "  </thead>\n",
       "  <tbody>\n",
       "    <tr>\n",
       "      <th>1172</th>\n",
       "      <td>1556</td>\n",
       "      <td>19</td>\n",
       "      <td>1.605263</td>\n",
       "      <td>2.190</td>\n",
       "      <td>Speed 2: Cruise Control (1997)</td>\n",
       "    </tr>\n",
       "    <tr>\n",
       "      <th>2679</th>\n",
       "      <td>3593</td>\n",
       "      <td>19</td>\n",
       "      <td>1.657895</td>\n",
       "      <td>2.224</td>\n",
       "      <td>Battlefield Earth (2000)</td>\n",
       "    </tr>\n",
       "    <tr>\n",
       "      <th>1372</th>\n",
       "      <td>1882</td>\n",
       "      <td>33</td>\n",
       "      <td>1.954545</td>\n",
       "      <td>2.267</td>\n",
       "      <td>Godzilla (1998)</td>\n",
       "    </tr>\n",
       "    <tr>\n",
       "      <th>1144</th>\n",
       "      <td>1499</td>\n",
       "      <td>27</td>\n",
       "      <td>1.925926</td>\n",
       "      <td>2.297</td>\n",
       "      <td>Anaconda (1997)</td>\n",
       "    </tr>\n",
       "    <tr>\n",
       "      <th>1988</th>\n",
       "      <td>2643</td>\n",
       "      <td>16</td>\n",
       "      <td>1.687500</td>\n",
       "      <td>2.307</td>\n",
       "      <td>Superman IV: The Quest for Peace (1987)</td>\n",
       "    </tr>\n",
       "  </tbody>\n",
       "</table>\n",
       "</div>"
      ],
      "text/plain": [
       "      movieId  count      mean  bayesian_avg  \\\n",
       "1172     1556     19  1.605263         2.190   \n",
       "2679     3593     19  1.657895         2.224   \n",
       "1372     1882     33  1.954545         2.267   \n",
       "1144     1499     27  1.925926         2.297   \n",
       "1988     2643     16  1.687500         2.307   \n",
       "\n",
       "                                        title  \n",
       "1172           Speed 2: Cruise Control (1997)  \n",
       "2679                 Battlefield Earth (2000)  \n",
       "1372                          Godzilla (1998)  \n",
       "1144                          Anaconda (1997)  \n",
       "1988  Superman IV: The Quest for Peace (1987)  "
      ]
     },
     "execution_count": 87,
     "metadata": {},
     "output_type": "execute_result"
    }
   ],
   "source": [
    "movieStats.sort_values('bayesian_avg', ascending=True).head()"
   ]
  },
  {
   "cell_type": "markdown",
   "metadata": {},
   "source": [
    "Por otro lado, la película peor calificada ahora es `Speed 2: Cruise Control` "
   ]
  },
  {
   "cell_type": "markdown",
   "metadata": {},
   "source": [
    "### **Análisis de géneros de películas**\n",
    "\n",
    "Adicional al análisis de las valoraciones, se realizó el mismo procedimiento con los géneros de las películas para hallar conocimiento en los datos y determinar que géneros aparecen más en el conjunto de datos, para ello, primero se tiene que realizar una limpieza, ya que en el conjunto de datos los géneros están divididos por el carácter `|`, lo que no facilitaría el análisis en esta etapa."
   ]
  },
  {
   "cell_type": "code",
   "execution_count": 88,
   "metadata": {},
   "outputs": [
    {
     "data": {
      "text/html": [
       "<div>\n",
       "<style scoped>\n",
       "    .dataframe tbody tr th:only-of-type {\n",
       "        vertical-align: middle;\n",
       "    }\n",
       "\n",
       "    .dataframe tbody tr th {\n",
       "        vertical-align: top;\n",
       "    }\n",
       "\n",
       "    .dataframe thead th {\n",
       "        text-align: right;\n",
       "    }\n",
       "</style>\n",
       "<table border=\"1\" class=\"dataframe\">\n",
       "  <thead>\n",
       "    <tr style=\"text-align: right;\">\n",
       "      <th></th>\n",
       "      <th>movieId</th>\n",
       "      <th>title</th>\n",
       "      <th>genres</th>\n",
       "    </tr>\n",
       "  </thead>\n",
       "  <tbody>\n",
       "    <tr>\n",
       "      <th>0</th>\n",
       "      <td>1</td>\n",
       "      <td>Toy Story (1995)</td>\n",
       "      <td>[Adventure, Animation, Children, Comedy, Fantasy]</td>\n",
       "    </tr>\n",
       "    <tr>\n",
       "      <th>1</th>\n",
       "      <td>2</td>\n",
       "      <td>Jumanji (1995)</td>\n",
       "      <td>[Adventure, Children, Fantasy]</td>\n",
       "    </tr>\n",
       "    <tr>\n",
       "      <th>2</th>\n",
       "      <td>3</td>\n",
       "      <td>Grumpier Old Men (1995)</td>\n",
       "      <td>[Comedy, Romance]</td>\n",
       "    </tr>\n",
       "    <tr>\n",
       "      <th>3</th>\n",
       "      <td>4</td>\n",
       "      <td>Waiting to Exhale (1995)</td>\n",
       "      <td>[Comedy, Drama, Romance]</td>\n",
       "    </tr>\n",
       "    <tr>\n",
       "      <th>4</th>\n",
       "      <td>5</td>\n",
       "      <td>Father of the Bride Part II (1995)</td>\n",
       "      <td>[Comedy]</td>\n",
       "    </tr>\n",
       "  </tbody>\n",
       "</table>\n",
       "</div>"
      ],
      "text/plain": [
       "   movieId                               title  \\\n",
       "0        1                    Toy Story (1995)   \n",
       "1        2                      Jumanji (1995)   \n",
       "2        3             Grumpier Old Men (1995)   \n",
       "3        4            Waiting to Exhale (1995)   \n",
       "4        5  Father of the Bride Part II (1995)   \n",
       "\n",
       "                                              genres  \n",
       "0  [Adventure, Animation, Children, Comedy, Fantasy]  \n",
       "1                     [Adventure, Children, Fantasy]  \n",
       "2                                  [Comedy, Romance]  \n",
       "3                           [Comedy, Drama, Romance]  \n",
       "4                                           [Comedy]  "
      ]
     },
     "execution_count": 88,
     "metadata": {},
     "output_type": "execute_result"
    }
   ],
   "source": [
    "movies_df['genres'] = movies_df['genres'].str.split('|')\n",
    "movies_df.head()"
   ]
  },
  {
   "cell_type": "markdown",
   "metadata": {},
   "source": [
    "#### **¿Cuántos géneros existen?**"
   ]
  },
  {
   "cell_type": "code",
   "execution_count": 89,
   "metadata": {},
   "outputs": [
    {
     "name": "stdout",
     "output_type": "stream",
     "text": [
      "Existen 20 géneros diferentes en el dataset\n"
     ]
    },
    {
     "data": {
      "text/plain": [
       "Counter({'Drama': 4361,\n",
       "         'Comedy': 3756,\n",
       "         'Thriller': 1894,\n",
       "         'Action': 1828,\n",
       "         'Romance': 1596,\n",
       "         'Adventure': 1263,\n",
       "         'Crime': 1199,\n",
       "         'Sci-Fi': 980,\n",
       "         'Horror': 978,\n",
       "         'Fantasy': 779,\n",
       "         'Children': 664,\n",
       "         'Animation': 611,\n",
       "         'Mystery': 573,\n",
       "         'Documentary': 440,\n",
       "         'War': 382,\n",
       "         'Musical': 334,\n",
       "         'Western': 167,\n",
       "         'IMAX': 158,\n",
       "         'Film-Noir': 87,\n",
       "         '(no genres listed)': 34})"
      ]
     },
     "execution_count": 89,
     "metadata": {},
     "output_type": "execute_result"
    }
   ],
   "source": [
    "from collections import Counter\n",
    "\n",
    "genreCounter = Counter(genre for genres in movies_df['genres'] for genre in genres)\n",
    "\n",
    "print(f'Existen {len(genreCounter)} géneros diferentes en el dataset')\n",
    "genreCounter"
   ]
  },
  {
   "cell_type": "markdown",
   "metadata": {},
   "source": [
    "#### **¿Cuáles son los 5 géneros más comunes?**"
   ]
  },
  {
   "cell_type": "code",
   "execution_count": 90,
   "metadata": {},
   "outputs": [
    {
     "name": "stdout",
     "output_type": "stream",
     "text": [
      "Los 5 géneros más comunes son: \n",
      " [('Drama', 4361), ('Comedy', 3756), ('Thriller', 1894), ('Action', 1828), ('Romance', 1596)]\n"
     ]
    }
   ],
   "source": [
    "print('Los 5 géneros más comunes son: \\n', genreCounter.most_common(5))"
   ]
  },
  {
   "cell_type": "code",
   "execution_count": 91,
   "metadata": {},
   "outputs": [
    {
     "name": "stderr",
     "output_type": "stream",
     "text": [
      "C:\\Users\\quiqu\\AppData\\Local\\Temp\\ipykernel_21432\\1158378022.py:4: FutureWarning: \n",
      "\n",
      "Passing `palette` without assigning `hue` is deprecated and will be removed in v0.14.0. Assign the `x` variable to `hue` and set `legend=False` for the same effect.\n",
      "\n",
      "  sns.barplot(x='genre', y='count', data=genreCounter_df.sort_values(by='count', ascending=False), palette='Set1')\n"
     ]
    },
    {
     "data": {
      "image/png": "[encoded data removed]",
      "text/plain": [
       "<Figure size 640x480 with 1 Axes>"
      ]
     },
     "metadata": {},
     "output_type": "display_data"
    }
   ],
   "source": [
    "genreCounter_df = pd.DataFrame([genreCounter]).T.reset_index()\n",
    "genreCounter_df.columns = ['genre', 'count']\n",
    "\n",
    "sns.barplot(x='genre', y='count', data=genreCounter_df.sort_values(by='count', ascending=False), palette='Set1')\n",
    "plt.title('Distribución de géneros en el dataset')\n",
    "plt.xticks(rotation=90)\n",
    "plt.xlabel('Cantidad')\n",
    "plt.ylabel('Género')\n",
    "\n",
    "plt.show()"
   ]
  },
  {
   "cell_type": "markdown",
   "metadata": {},
   "source": [
    "## **Paso 4: Pre-procesamiento de datos**\n",
    "\n",
    "En este punto, se utilizará la técnica de filtrado colaborativo para generar recomendaciones a los usuarios. La premisa de esta técnica es que a usuarios con gustos similares les gustan cosas similares.\n",
    "\n",
    "Como primer paso, se deben transformar los datos, de manera de que en lugar de tener dos columnas con información dividida, se tenga una matriz que combine toda la información, de manera que las columnas representen películas y las filas usuarios, enfocándonos en las valoraciones como datos de las celdas.\n",
    "\n",
    "Para el proceso anterior, se tendrán que generar diccionarios para mapear los valores relevantes de columna a matriz:\n",
    "\n",
    "- **userMapper:** Mapea un id de usuario a un índice de fila en la matriz.\n",
    "- **movieMapper:** Mapea un id de película a un índice de columna en la matriz.\n",
    "- **userInverseMapper:** Realiza el proceso contrario, de un índice de fila retorna el id de usuario.\n",
    "- **movieInverseMapper:** De igual forma, toma un índice de columna para devolver el id de la película.\n",
    "\n",
    "Con los diccionarios anteriores, se tendrá la relación de que un usuario/película corresponde a una fila/columna de la matriz."
   ]
  },
  {
   "cell_type": "code",
   "execution_count": 92,
   "metadata": {},
   "outputs": [],
   "source": [
    "from scipy.sparse import csr_matrix\n",
    "\n",
    "#  Crea una matriz de valoraciones a partir de un DataFrame\n",
    "def createMatrix(df):\n",
    "    \"\"\"\n",
    "    Args:\n",
    "        df (pd.DataFrame): DataFrame con las valoraciones de los usuarios (userId, movieId, rating)\n",
    "\n",
    "    Returns:\n",
    "        matrix: Matriz de valoraciones\n",
    "        userMapper: Mapeo de userId a índice entero\n",
    "        movieMapper: Mapeo de movieId a índice entero\n",
    "        userInverseMapper: Mapeo inverso de userId a índice entero\n",
    "        movieInverseMapper: Mapeo inverso de movieId a índice entero\n",
    "    \"\"\"\n",
    "\n",
    "    # Número de usuarios y películas únicas\n",
    "    M = df ['userId'].nunique()\n",
    "    N = df['movieId'].nunique()\n",
    "\n",
    "    # Crear un mapeo de userId y movieId a un índice entero\n",
    "    userMapper = dict(zip(np.unique(df['userId']), list(range(M))))\n",
    "    movieMapper = dict(zip(np.unique(df['movieId']), list(range(N))))\n",
    "\n",
    "    # Mapper inverso\n",
    "    userInverseMapper = dict(zip(list(range(M)), np.unique(df['userId'])))\n",
    "    movieInverseMapper = dict(zip(list(range(N)), np.unique(df['movieId'])))\n",
    "\n",
    "    userIndex = [userMapper[i] for i in df['userId']]\n",
    "    movieIndex = [movieMapper[i] for i in df['movieId']]\n",
    "\n",
    "    # Crear la matriz de valoraciones\n",
    "    matrix = csr_matrix((df['rating'], (userIndex, movieIndex)), shape=(M, N))\n",
    "\n",
    "    # Retornar la matriz y los mappers\n",
    "    return matrix, userMapper, movieMapper, userInverseMapper, movieInverseMapper"
   ]
  },
  {
   "cell_type": "code",
   "execution_count": 93,
   "metadata": {},
   "outputs": [
    {
     "data": {
      "text/plain": [
       "(610, 9724)"
      ]
     },
     "execution_count": 93,
     "metadata": {},
     "output_type": "execute_result"
    }
   ],
   "source": [
    "matrix, userMapper, movieMapper, userInverseMapper, movieInverseMapper = createMatrix(ratings_df)\n",
    "matrix.shape"
   ]
  },
  {
   "cell_type": "markdown",
   "metadata": {},
   "source": [
    "El tamaño de la matriz es de 610 usuarios x 9724 películas"
   ]
  },
  {
   "cell_type": "markdown",
   "metadata": {},
   "source": [
    "#### **Evaluación de escasez de datos**\n",
    "\n",
    "La escasez de datos puede impactar en la veracidad del algoritmo, para ello, se calculó la escasez en los datos dividiendo el número de elementos almacenados con el total de elementos"
   ]
  },
  {
   "cell_type": "code",
   "execution_count": 94,
   "metadata": {},
   "outputs": [
    {
     "name": "stdout",
     "output_type": "stream",
     "text": [
      "El porcentaje de escasez de datos es: 1.70%\n"
     ]
    }
   ],
   "source": [
    "# Número total de elementos en la matriz\n",
    "totalElements = matrix.shape[0] * matrix.shape[1]\n",
    "\n",
    "# Número de elementos no nulos en la matriz\n",
    "nonZeroElements = matrix.count_nonzero()\n",
    "\n",
    "# Porcentaje de escasez\n",
    "sparsity = (nonZeroElements / totalElements) * 100\n",
    "\n",
    "print(f'El porcentaje de escasez de datos es: {sparsity:.2f}%')"
   ]
  },
  {
   "cell_type": "markdown",
   "metadata": {},
   "source": [
    "El siguiente paso es comprobar si existiría un problema de arranque frio, esto se produce cuando en la matriz hay nuevos usuarios o películas, y por ende, no hay valoraciones. Como primer paso se comprobarán las valoraciones por usuario."
   ]
  },
  {
   "cell_type": "code",
   "execution_count": 95,
   "metadata": {},
   "outputs": [
    {
     "data": {
      "text/plain": [
       "610"
      ]
     },
     "execution_count": 95,
     "metadata": {},
     "output_type": "execute_result"
    }
   ],
   "source": [
    "# Valoraciones por usuario\n",
    "ratingsPerUser = matrix.getnnz(axis=1)\n",
    "len(ratingsPerUser)"
   ]
  },
  {
   "cell_type": "code",
   "execution_count": 96,
   "metadata": {},
   "outputs": [
    {
     "name": "stdout",
     "output_type": "stream",
     "text": [
      "El usuario más activo ha realizado 2698 valoraciones\n",
      "El usuario menos activo ha realizado 20 valoraciones\n"
     ]
    }
   ],
   "source": [
    "print(f'El usuario más activo ha realizado {ratingsPerUser.max()} valoraciones')\n",
    "print(f'El usuario menos activo ha realizado {ratingsPerUser.min()} valoraciones')"
   ]
  },
  {
   "cell_type": "markdown",
   "metadata": {},
   "source": [
    "Posteriormente, se calcularán las valoraciones por película"
   ]
  },
  {
   "cell_type": "code",
   "execution_count": 97,
   "metadata": {},
   "outputs": [
    {
     "data": {
      "text/plain": [
       "9724"
      ]
     },
     "execution_count": 97,
     "metadata": {},
     "output_type": "execute_result"
    }
   ],
   "source": [
    "# Valoraciones por película\n",
    "ratingsPerMovie = matrix.getnnz(axis=0)\n",
    "len(ratingsPerMovie)"
   ]
  },
  {
   "cell_type": "code",
   "execution_count": 98,
   "metadata": {},
   "outputs": [
    {
     "name": "stdout",
     "output_type": "stream",
     "text": [
      "La película más valorada tiene 329 valoraciones\n",
      "La película menos valorada tiene 1 valoraciones\n"
     ]
    }
   ],
   "source": [
    "print(f'La película más valorada tiene {ratingsPerMovie.max()} valoraciones')\n",
    "print(f'La película menos valorada tiene {ratingsPerMovie.min()} valoraciones')"
   ]
  },
  {
   "cell_type": "markdown",
   "metadata": {},
   "source": [
    "De manera gráfica:"
   ]
  },
  {
   "cell_type": "code",
   "execution_count": 99,
   "metadata": {},
   "outputs": [
    {
     "name": "stderr",
     "output_type": "stream",
     "text": [
      "C:\\Users\\quiqu\\AppData\\Local\\Temp\\ipykernel_21432\\1830526771.py:3: FutureWarning: \n",
      "\n",
      "`shade` is now deprecated in favor of `fill`; setting `fill=True`.\n",
      "This will become an error in seaborn v0.14.0; please update your code.\n",
      "\n",
      "  sns.kdeplot(ratingsPerUser, color='r', shade=True)\n",
      "C:\\Users\\quiqu\\AppData\\Local\\Temp\\ipykernel_21432\\1830526771.py:9: FutureWarning: \n",
      "\n",
      "`shade` is now deprecated in favor of `fill`; setting `fill=True`.\n",
      "This will become an error in seaborn v0.14.0; please update your code.\n",
      "\n",
      "  sns.kdeplot(ratingsPerMovie, color='b', shade=True)\n"
     ]
    },
    {
     "data": {
      "image/png": "[encoded data removed]",
      "text/plain": [
       "<Figure size 1600x400 with 2 Axes>"
      ]
     },
     "metadata": {},
     "output_type": "display_data"
    }
   ],
   "source": [
    "plt.figure(figsize=(16, 4))\n",
    "plt.subplot(1, 2, 1)\n",
    "sns.kdeplot(ratingsPerUser, color='r', shade=True)\n",
    "plt.xlim(0)\n",
    "plt.title('Distribución de valoraciones por usuario', fontsize=14)\n",
    "plt.xlabel('Número de valoraciones')\n",
    "plt.ylabel('Densidad')\n",
    "plt.subplot(1, 2, 2)\n",
    "sns.kdeplot(ratingsPerMovie, color='b', shade=True)\n",
    "plt.xlim(0)\n",
    "plt.title('Distribución de valoraciones por película', fontsize=14)\n",
    "plt.xlabel('Número de valoraciones')\n",
    "plt.ylabel('Densidad')\n",
    "\n",
    "plt.show()"
   ]
  },
  {
   "cell_type": "markdown",
   "metadata": {},
   "source": [
    "## **Paso 5: Recomendación de películas usando KNN**\n",
    "\n",
    "En este punto se utilizó la técnica de KNN (k-Nearest Neighbors) para encontrar *k* películas que tienen una interacción de usuario similar para una película *i*"
   ]
  },
  {
   "cell_type": "code",
   "execution_count": 113,
   "metadata": {},
   "outputs": [],
   "source": [
    "from sklearn.neighbors import NearestNeighbors\n",
    "\n",
    "# Función para encontrar películas similares\n",
    "def findSimilarMovies(movieId, matrix, movieMapper, movieInverseMapper, k=5, metric='cosine'):\n",
    "    \"\"\"\n",
    "    Args:\n",
    "        movieId (int): movieId de la película de la que se quiere encontrar las similares\n",
    "        matrix (csr_matrix): Matriz de valoraciones\n",
    "        movieMapper (dict): Mapeo de movieId a índice entero\n",
    "        movieInverseMapper (dict): Mapeo de índice entero a id de película\n",
    "        k (int): Número de películas similares a encontrar\n",
    "        metric (str): Medida de similitud a utilizar\n",
    "\n",
    "    Returns:\n",
    "        list: Películas similares\n",
    "    \"\"\"\n",
    "\n",
    "    matrix = matrix.T\n",
    "    kneighbors = []\n",
    "\n",
    "    movieIndex = movieMapper[movieId]\n",
    "    movieVector = matrix[movieIndex]\n",
    "    if isinstance(movieVector, (np.ndarray)):\n",
    "        movieVector = movieVector.reshape(1, -1)\n",
    "    kNN = NearestNeighbors(n_neighbors=k+1, algorithm='brute', metric=metric)\n",
    "    kNN.fit(matrix)\n",
    "    neighbor = kNN.kneighbors(movieVector, return_distance=False) \n",
    "\n",
    "    for i in range(0, k):\n",
    "        n = neighbor.item(i)\n",
    "        kneighbors.append(movieInverseMapper[n])\n",
    "    kneighbors.pop(0)\n",
    "\n",
    "    return kneighbors"
   ]
  },
  {
   "cell_type": "markdown",
   "metadata": {},
   "source": [
    "Comprobamos el funcionamiento del modelo"
   ]
  },
  {
   "cell_type": "code",
   "execution_count": 119,
   "metadata": {},
   "outputs": [
    {
     "name": "stdout",
     "output_type": "stream",
     "text": [
      "Películas similares a Avengers: Age of Ultron (2015):\n",
      "Captain America: The Winter Soldier (2014)\n",
      "Thor: The Dark World (2013)\n",
      "Captain America: The First Avenger (2011)\n",
      "X-Men: Days of Future Past (2014)\n",
      "Thor (2011)\n",
      "Avengers, The (2012)\n",
      "Guardians of the Galaxy (2014)\n",
      "Iron Man 2 (2010)\n",
      "Iron Man 3 (2013)\n",
      "Captain America: Civil War (2016)\n",
      "Deadpool (2016)\n",
      "Ant-Man (2015)\n",
      "X-Men: First Class (2011)\n",
      "The Lego Movie (2014)\n",
      "Kingsman: The Secret Service (2015)\n",
      "Star Trek Into Darkness (2013)\n",
      "Man of Steel (2013)\n",
      "Doctor Strange (2016)\n",
      "X-Men Origins: Wolverine (2009)\n"
     ]
    }
   ],
   "source": [
    "# Mapeo de movieId a título de película\n",
    "movieTitles = dict(zip(movies_df['movieId'], movies_df['title']))\n",
    "\n",
    "# Película de la que se quiere encontrar las similares\n",
    "movieId = 122892\n",
    "\n",
    "# Llamado a la función para encontrar películas similares\n",
    "similarMovies = findSimilarMovies(movieId, matrix, movieMapper, movieInverseMapper, k=20)\n",
    "\n",
    "# Obtenemos el título de la película\n",
    "movieTitle = movieTitles[movieId]\n",
    "\n",
    "# Imprimimos las películas similares\n",
    "print(f'Películas similares a {movieTitle}:')\n",
    "# Recorre el arreglo de películas similares\n",
    "for movieId in similarMovies:\n",
    "    # Busca el título de la película en el diccionario\n",
    "    print(movieTitles[movieId])"
   ]
  }
 ],
 "metadata": {
  "kernelspec": {
   "display_name": "movieRecommender-6mfH3-9h",
   "language": "python",
   "name": "python3"
  },
  "language_info": {
   "codemirror_mode": {
    "name": "ipython",
    "version": 3
   },
   "file_extension": ".py",
   "mimetype": "text/x-python",
   "name": "python",
   "nbconvert_exporter": "python",
   "pygments_lexer": "ipython3",
   "version": "3.12.6"
  }
 },
 "nbformat": 4,
 "nbformat_minor": 2
}
